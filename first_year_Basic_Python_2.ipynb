{
  "cells": [
    {
      "cell_type": "markdown",
      "source": [
        "# **พื้นฐานการใช้งานโปรแกรม Google Colab**\n",
        "\n",
        "Google Colab หรือ Google Colaboratory คือแพลตฟอร์มออนไลน์สำหรับเขียนโค้ด\n",
        "\n",
        "และทำงานกับข้อมูลฟรี โดยไม่ต้องติดตั้งโปรแกรมใดๆ บนเครื่อง ใช้งานได้ผ่านเว็บเบราว์เซอร์เท่านั้น\n",
        "<p>\n",
        "\n",
        "1. Arithmetic operators (ตัวดำเนินการทางคณิตศาสตร์)\n",
        "<p>\n",
        "<p>+ :  บวก\n",
        "<p>-  : ลบ\n",
        "<p>*  : คูณ\n",
        "<p>/  : หาร\n",
        "<p>// : หารต้องการผลจำนวนเต็ม\n",
        "<p>** : ยกกำลัง\n"
      ],
      "metadata": {
        "id": "pTTs3SyJZDz8"
      }
    },
    {
      "cell_type": "code",
      "source": [
        "#ตัวอย่างการใช้งานตัวดำเนินการทางคณิตศาสตร์\n",
        "x = 2\n",
        "y = 3\n",
        "print(x + y)\n",
        "print(x - y)\n",
        "print(x*y)\n",
        "print(x/y)\n",
        "print(x//y)\n",
        "print(x**y)"
      ],
      "metadata": {
        "colab": {
          "base_uri": "https://localhost:8080/"
        },
        "id": "8oWTHEnkZDJR",
        "outputId": "147f44ef-4d98-4602-80ef-0f6f1642a932"
      },
      "execution_count": null,
      "outputs": [
        {
          "output_type": "stream",
          "name": "stdout",
          "text": [
            "5\n",
            "-1\n",
            "6\n",
            "0.6666666666666666\n",
            "0\n",
            "8\n"
          ]
        }
      ]
    },
    {
      "cell_type": "markdown",
      "source": [
        "2. Assignment operators (ตัวดำเนินการกำหนดค่า)\n",
        "<p> =   : เท่ากับ\n",
        "<p>+=  : บวกเท่ากับ\n",
        "<p>-=  : ลบเท่ากับ\n",
        "<p>*=  : คูณเท่ากับ\n",
        "<p>/=  : หารเท่ากับ\n",
        "<p>//= : หารต้องการผลลัพท์จำนวนเต็มเท่ากับ\n",
        "<p>**= : ยกกำลังเท่ากับ"
      ],
      "metadata": {
        "id": "wXYmuOwZaBvo"
      }
    },
    {
      "cell_type": "code",
      "source": [
        "#ตัวอย่างการใช้งานตัวดำเนินการกำหนดค่า\n",
        "x = 2\n",
        "print(x)\n",
        "x+=3\n",
        "print(x)\n",
        "x-=2\n",
        "print(x)\n",
        "x*=2\n",
        "print(x)\n",
        "x/=2\n",
        "print(x)\n",
        "x//=2\n",
        "print(x)\n",
        "x**=2\n",
        "print(x)"
      ],
      "metadata": {
        "colab": {
          "base_uri": "https://localhost:8080/"
        },
        "id": "_fYTtWIdcoS1",
        "outputId": "6a65e57c-2b8a-4258-a0ec-7d15868baaaa"
      },
      "execution_count": null,
      "outputs": [
        {
          "output_type": "stream",
          "name": "stdout",
          "text": [
            "2\n",
            "5\n",
            "3\n",
            "6\n",
            "3.0\n",
            "1.0\n",
            "1.0\n"
          ]
        }
      ]
    },
    {
      "cell_type": "markdown",
      "source": [
        "3. Comparison operators (ตัวดำเนินการเปรียบเทียบ)\n",
        "<p>== : เท่ากับ\n",
        "<p>!= : ไม่เท่ากับ\n",
        "<p>>  : มากกว่า\n",
        "<p>>= : มากกว่าเท่ากับ\n",
        "<p><  : น้อยกว่า\n",
        "<p><= : น้อยกว่าเท่ากับ"
      ],
      "metadata": {
        "id": "h-WbVLDieDQ0"
      }
    },
    {
      "cell_type": "code",
      "source": [
        "#ตัวอย่างการใช้งานตัวดำเนินการเปรียบเทียบ\n",
        "x = 2\n",
        "y = 3\n",
        "print(x==y)\n",
        "print(x!=y)\n",
        "print(x>y)\n",
        "print(x>=y)\n",
        "print(x<y)\n",
        "print(x<=y)"
      ],
      "metadata": {
        "colab": {
          "base_uri": "https://localhost:8080/"
        },
        "id": "g1i0JXA8ePJ9",
        "outputId": "5a189961-0189-4e3a-8ac7-de50b5f52c68"
      },
      "execution_count": null,
      "outputs": [
        {
          "output_type": "stream",
          "name": "stdout",
          "text": [
            "False\n",
            "True\n",
            "False\n",
            "False\n",
            "True\n",
            "True\n"
          ]
        }
      ]
    },
    {
      "cell_type": "markdown",
      "source": [
        "4. การหาค่า  Min Max Mean Median และMode\n",
        "<p>4.1. คำสั่ง min\n",
        "<p>เป็นคำสั่งหาค่าที่ต่ำที่สุดในชุดข้อมูล"
      ],
      "metadata": {
        "id": "JyzP7RhLed2B"
      }
    },
    {
      "cell_type": "code",
      "source": [
        "#ตัวอย่างการใช้ Min\n",
        "# สร้างชุดข้อมูล\n",
        "data = [10, 20, 30, 40, 50]\n",
        "\n",
        "# ค้นหาค่าต่ำสุด\n",
        "min_value = min(data)\n",
        "\n",
        "print(\"ค่าต่ำสุด:\", min_value)"
      ],
      "metadata": {
        "colab": {
          "base_uri": "https://localhost:8080/"
        },
        "id": "ma-YhSbCgbWj",
        "outputId": "5ed821b0-a8f0-4ca6-bd4b-967f67d87854"
      },
      "execution_count": null,
      "outputs": [
        {
          "output_type": "stream",
          "name": "stdout",
          "text": [
            "ค่าต่ำสุด: 10\n"
          ]
        }
      ]
    },
    {
      "cell_type": "markdown",
      "source": [
        "4.2. คำสั่ง max\n",
        "\n",
        "<p>คำสั่ง max ใช้หาค่าสูงสุดในชุดข้อมูล"
      ],
      "metadata": {
        "id": "rZoXDdisgjks"
      }
    },
    {
      "cell_type": "code",
      "source": [
        "#ตัวอย่างการใช้ Max\n",
        "# สร้างชุดข้อมูล\n",
        "data = [10, 20, 30, 40, 50]\n",
        "\n",
        "# ค้นหาค่าสูงสุด\n",
        "max_value = max(data)\n",
        "\n",
        "print(\"ค่าสูงสุด:\", max_value)"
      ],
      "metadata": {
        "colab": {
          "base_uri": "https://localhost:8080/"
        },
        "id": "kXLf9XfMgozH",
        "outputId": "02104948-6b74-4c85-825b-deafa0d911ef"
      },
      "execution_count": null,
      "outputs": [
        {
          "output_type": "stream",
          "name": "stdout",
          "text": [
            "ค่าสูงสุด: 50\n"
          ]
        }
      ]
    },
    {
      "cell_type": "markdown",
      "source": [
        "4.3. คำสั่ง mean\n",
        "\n",
        "คำสั่ง mean ใช้หาค่าเฉลี่ยของชุดข้อมูล"
      ],
      "metadata": {
        "id": "aSgO1ra7gw7F"
      }
    },
    {
      "cell_type": "code",
      "source": [
        "#ตัวอย่างการใช้ Mean\n",
        "import numpy as np\n",
        "\n",
        "data = [10, 20, 30, 40, 50]\n",
        "\n",
        "mean_value = np.mean(data)\n",
        "\n",
        "print(\"ค่าเฉลี่ย:\", mean_value)"
      ],
      "metadata": {
        "colab": {
          "base_uri": "https://localhost:8080/"
        },
        "id": "QMFOeY1luhtQ",
        "outputId": "be0ec4b4-e226-44fd-d316-8819828dce68"
      },
      "execution_count": null,
      "outputs": [
        {
          "output_type": "stream",
          "name": "stdout",
          "text": [
            "ค่าเฉลี่ย: 30.0\n"
          ]
        }
      ]
    },
    {
      "cell_type": "markdown",
      "source": [
        "import numpy  เป็นคำสั่งในภาษา Python ที่ใช้สำหรับนำโมดูล NumPy มาใช้งาน โมดูล NumPy เป็นไลบรารีโอเพ่นซอร์สที่มีประสิทธิภาพสูงสำหรับการทำงานกับข้อมูลเชิงตัวเลขใน Python"
      ],
      "metadata": {
        "id": "KKbH3etHvANf"
      }
    },
    {
      "cell_type": "markdown",
      "source": [
        "4.4. คำสั่ง median\n",
        "\n",
        "คำสั่ง median ใช้หาค่ากึ่งกลางของชุดข้อมูล"
      ],
      "metadata": {
        "id": "pwspziGog5_v"
      }
    },
    {
      "cell_type": "code",
      "source": [
        "#ตัวอย่างการใช้ Median\n",
        "import numpy as np\n",
        "\n",
        "data = [10, 20, 30, 40, 50]\n",
        "\n",
        "median_value = np.median(data)\n",
        "\n",
        "print(\"ค่ากึ่งกลาง:\", median_value)"
      ],
      "metadata": {
        "colab": {
          "base_uri": "https://localhost:8080/"
        },
        "id": "tDfeO_SMg9xh",
        "outputId": "54c07b7c-dc52-44fb-cda6-e4665f08d62f"
      },
      "execution_count": null,
      "outputs": [
        {
          "output_type": "stream",
          "name": "stdout",
          "text": [
            "ค่ากึ่งกลาง: 30.0\n"
          ]
        }
      ]
    },
    {
      "cell_type": "markdown",
      "source": [
        "4.5. คำสั่ง mode\n",
        "\n",
        "คำสั่ง mode ใช้หาค่าที่พบมากที่สุดในชุดข้อมูล"
      ],
      "metadata": {
        "id": "3ts945NChDnv"
      }
    },
    {
      "cell_type": "code",
      "source": [
        "#ตัวอย่างการใช้ Mode\n",
        "import numpy as np\n",
        "from scipy import stats\n",
        "\n",
        "data = [10, 20, 20, 30, 30, 30, 40, 50]\n",
        "\n",
        "mode = stats.mode(data)\n",
        "\n",
        "print(\"ค่าที่พบมากที่สุด:\", mode)"
      ],
      "metadata": {
        "colab": {
          "base_uri": "https://localhost:8080/"
        },
        "id": "dWN_e_pLhGmV",
        "outputId": "db7788bf-500a-4043-c188-af4db135400c"
      },
      "execution_count": null,
      "outputs": [
        {
          "output_type": "stream",
          "name": "stdout",
          "text": [
            "ค่าที่พบมากที่สุด: ModeResult(mode=30, count=3)\n"
          ]
        }
      ]
    },
    {
      "cell_type": "markdown",
      "source": [
        "การใช้ from scipy import stats ใน Python นั้นมีความสำคัญอย่างยิ่งสำหรับงานวิเคราะห์ข้อมูล โดยเฉพาะอย่างยิ่งเมื่อต้องจัดการกับการวัดทางสถิติที่ซับซ้อนมากกว่าค่าเฉลี่ยและค่ากึ่งกลาง โมดูลนี้จัดเตรียมฟังก์ชันที่ครอบคลุมสำหรับการดำเนินการทางสถิติที่หลากหลาย"
      ],
      "metadata": {
        "id": "2LQ2XoaEw4ox"
      }
    },
    {
      "cell_type": "markdown",
      "source": [
        "**กิจกรรมเสริมการเรียน**\n",
        "\n",
        "กำหนดชุดข้อมูล ดังนี้ 10 , 10 ,  20 , 30 , 40 , 40 , 40 , 50 , 60 , 70 , 80 , 90\n",
        "\n",
        "ให้หา Max min Mean Median และ Mode ของชุดข้อมูลข้างต้น"
      ],
      "metadata": {
        "id": "HAi5ze4x7wHq"
      }
    },
    {
      "cell_type": "code",
      "source": [
        "import numpy as np\n",
        "from scipy import stats\n",
        "data = [10, 10, 20, 30, 40, 40, 40, 50, 60, 70, 80, 90]\n",
        "min_value,max_value,mean_value,median_value,mode = min(data),max(data),np.mean(data),np.median(data),stats.mode(data)\n",
        "print(\"ค่าต่ำสุด:\\t\\t\", min_value,\"\\nค่าสูงสุด:\\t\\t\", max_value,\"\\nค่าเฉลี่ย:\\t\\t\", mean_value,\"\\nค่ากึ่งกลาง:\\t\", median_value,\"\\nค่าที่พบมากที่สุด:\\t\", mode)"
      ],
      "metadata": {
        "colab": {
          "base_uri": "https://localhost:8080/"
        },
        "id": "hFeD9NI842OU",
        "outputId": "306682e3-639a-4238-baee-a6d8892b433e"
      },
      "execution_count": null,
      "outputs": [
        {
          "output_type": "stream",
          "name": "stdout",
          "text": [
            "ค่าต่ำสุด:\t\t 10 \n",
            "ค่าสูงสุด:\t\t 90 \n",
            "ค่าเฉลี่ย:\t\t 45.0 \n",
            "ค่ากึ่งกลาง:\t 40.0 \n",
            "ค่าที่พบมากที่สุด:\t ModeResult(mode=40, count=3)\n"
          ]
        }
      ]
    },
    {
      "cell_type": "markdown",
      "source": [
        "5.การใช้คำสั่ง input() เพื่อรับข้อมูลเข้า\n",
        "<p>คำสั่ง input()\n",
        "\n",
        "Input หมายถึง สิ่งที่ได้รับเข้ามา ซึ่งในการเขียนโปรแกรม Input จะหมายถึงการที่โปรแกรมนั้นจะรับค่าอะไรมาซักอย่าง เพื่อที่จะให้นำไปใช้ในขณะที่โปรแกรมกำลังทำงาน\n",
        "โดยในภาษา Python นั้นจะใช้คำสั่ง input() เพื่อทำการรับ input เข้ามาสู่ระบบ\n",
        "\n",
        "\n",
        "\n",
        "```\n",
        "x = input()\n",
        "```\n",
        "\n",
        "\n",
        "\n",
        "ตามโค้ดตัวอย่างด้านบนนั้น ข้อมูลที่ได้รับผ่านคำสั่ง input() จะถูกนำไปจัดเก็บที่ตัวแปร x\n",
        "\n",
        "เมื่อเขียนโปรแกรม ที่ต้องรับข้อมูลเข้าจากคนที่ใช้โปรแกรม ผู้เขียนโปรแกรม จะต้อง สื่อสาร กับ ผู้ใช้งานโปรแกรมด้วย ว่าต้องการให้ผู้ใช้งาน ป้อนข้อมูลอะไรเข้ามา\n",
        "\n",
        "ซึ่งคำสั่ง input() สามารถใช้เขียนข้อความเพื่อสื่อสารได้เลย ด้วยการเขียนข้อความในช่อง () ของคำสั่ง input()"
      ],
      "metadata": {
        "id": "coHyLPIshcoN"
      }
    },
    {
      "cell_type": "markdown",
      "source": [
        "5.1 ชนิดข้อมูลในการนำเข้าข้อมูล\n",
        "\n",
        "ข้อมูลที่รับเข้าทั่วไปและมีการนำมาใช้บ่อยมีอยู่ 3 ชนิด นั่นคือ str(ตัวอักษร) , int(จำนวนเต็ม) , float(เลขทศนิยม)"
      ],
      "metadata": {
        "id": "7OyiyDWPy4IZ"
      }
    },
    {
      "cell_type": "markdown",
      "source": [
        "คำสั่ง input() ใช้ในการรับข้อมูลเข้าสู่โปรแกรม โดยข้อมูลที่รับเข้ามานั้นจะถูกกำหนดเป็นตัวอักษร แม้ว่าผู้ป้อนจะพิมพ์ข้อมูลตัวเลขเข้าไปก็ตาม โปรแกรมจะมองตัวเลขนั้นเป็นตัวอักษร ซึ่งไม่สามารถนำไปใช้คำนวณ ทางคณิตศาสตร์ได้ ถ้าหากต้องการให้ฟังก์ชั่น input สามารถนำเข้ามูลที่เป็นจำนวนเต็ม หรือ จำนวนจริงได้ ต้องใส่ชนิดของข้อมูลไว้ข้างหน้าฟังก์ชั้น input เช่น int(input())"
      ],
      "metadata": {
        "id": "tD_Rq6VW0qQO"
      }
    },
    {
      "cell_type": "code",
      "source": [
        "#ตัวอย่างการใช้คำสั่ง input โดยรับค่าตัวแปรเป็นแบบตัวอักษร\n",
        "Name = str(input(\"กรุณากรอกชื่อของคุณ\"))\n",
        "print(\"ชื่อของคุณคือ :\",Name)"
      ],
      "metadata": {
        "colab": {
          "base_uri": "https://localhost:8080/"
        },
        "id": "f4rV28cQz9WI",
        "outputId": "2095df1a-4070-497a-bc4f-46f2b7193e3a"
      },
      "execution_count": null,
      "outputs": [
        {
          "output_type": "stream",
          "name": "stdout",
          "text": [
            "กรุณากรอกชื่อของคุณจุ๊บแจง\n",
            "ชื่อของคุณคือ : จุ๊บแจง\n"
          ]
        }
      ]
    },
    {
      "cell_type": "code",
      "source": [
        "#ตัวอย่างการใช้คำสั่ง input โดยรับค่าตัวแปรเป็นแบบเลขจำนวนเต็ม\n",
        "Age = int(input(\"กรุณากรอกอายุของคุณ\"))\n",
        "print(\"อายุของคุณคือ :\",Age)"
      ],
      "metadata": {
        "colab": {
          "base_uri": "https://localhost:8080/"
        },
        "id": "Zfl7JAES1aG5",
        "outputId": "cd019adf-8804-4f74-d363-528f5a45bbf3"
      },
      "execution_count": null,
      "outputs": [
        {
          "output_type": "stream",
          "name": "stdout",
          "text": [
            "กรุณากรอกอายุของคุณ12\n",
            "อายุของคุณคือ : 12\n"
          ]
        }
      ]
    },
    {
      "cell_type": "code",
      "source": [
        "#ตัวอย่างการใช้คำสั่ง input โดยรับค่าตัวแปรเป็นแบบเลขทศนิยม\n",
        "Height = float(input(\"กรุณากรอกส่วนสูงของคุณ หน่วยเป็นเมตร\"))\n",
        "print(\"ส่วนสูงของคุณคือ :\",Height)"
      ],
      "metadata": {
        "colab": {
          "base_uri": "https://localhost:8080/"
        },
        "id": "Jg4Rj6oa1xey",
        "outputId": "f921d12e-88fc-4ae3-d763-8f447df0873c"
      },
      "execution_count": null,
      "outputs": [
        {
          "output_type": "stream",
          "name": "stdout",
          "text": [
            "กรุณากรอกส่วนสูงของคุณ หน่วยเป็นเมตร1.67\n",
            "ส่วนสูงของคุณคือ : 1.67\n"
          ]
        }
      ]
    },
    {
      "cell_type": "code",
      "source": [
        "#ตัวอย่างการใช้คำสั่ง input โดยรับค่าตัวแปรมาดำเนินการทางคณิตศาสตร์\n",
        "a = input(\"กรอกตัวเลข\")\n",
        "b = input(\"กรอกตัวเลข\")\n",
        "print(a+b)"
      ],
      "metadata": {
        "colab": {
          "base_uri": "https://localhost:8080/"
        },
        "id": "x28P6SMy2y1H",
        "outputId": "e4e4cc91-9061-430e-8ea8-bf14f16f37e8"
      },
      "execution_count": 2,
      "outputs": [
        {
          "output_type": "stream",
          "name": "stdout",
          "text": [
            "กรอกตัวเลข15\n",
            "กรอกตัวเลข5\n",
            "155\n"
          ]
        }
      ]
    },
    {
      "cell_type": "markdown",
      "source": [
        "**กิจกรรมท้ายบทเรียน**\n",
        "\n",
        "ให้น้องๆที่น่ารักทุกคนเขียน Code ตามเงื่อนไขต่อไปนี้\n",
        "\n",
        "เขียน Code เพื่อหาค่า BMI ของตนเอง โดยการใช้คำสั่ง input ที่ได้เรียนมาสร้างให้เหมาะสมและถูกต้อง และเมื่อ Runคำสั่งออกมาจะต้องมีข้อมูล\n",
        "\n",
        "1.ชื่อ - สกุล\n",
        "\n",
        "2.ชื่อเล่น\n",
        "\n",
        "3.น้ำหนัก\n",
        "\n",
        "4.ส่วนสูง\n",
        "\n",
        "5.ค่า BMI ที่หาได้\n",
        "\n",
        "โดยค่า BMI หาได้โดย สูตรทั่วไป: BMI = น้ำหนักตัว (กก.) / (ส่วนสูง (ม.) x ส่วนสูง (ม.))"
      ],
      "metadata": {
        "id": "GlPuvIlQ5Kz8"
      }
    },
    {
      "cell_type": "code",
      "source": [
        "H = float(input(\"ส่วนสูง\"))\n",
        "W = float(input(\"น้ำหนัก (kg): \"))\n",
        "BMI = W / ((H/100) ** 2)\n",
        "print(BMI)"
      ],
      "metadata": {
        "colab": {
          "base_uri": "https://localhost:8080/"
        },
        "id": "IEgn1H-kDNuq",
        "outputId": "62483fb0-0e4f-4085-e21c-400aea6bd8e4"
      },
      "execution_count": null,
      "outputs": [
        {
          "output_type": "stream",
          "name": "stdout",
          "text": [
            "ส่วนสูง160\n",
            "น้ำหนัก (kg): 50\n",
            "19.531249999999996\n"
          ]
        }
      ]
    }
  ],
  "metadata": {
    "colab": {
      "provenance": []
    },
    "kernelspec": {
      "display_name": "Python 3",
      "name": "python3"
    }
  },
  "nbformat": 4,
  "nbformat_minor": 0
}