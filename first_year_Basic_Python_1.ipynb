{
  "nbformat": 4,
  "nbformat_minor": 0,
  "metadata": {
    "colab": {
      "provenance": []
    },
    "kernelspec": {
      "name": "python3",
      "display_name": "Python 3"
    },
    "language_info": {
      "name": "python"
    }
  },
  "cells": [
    {
      "cell_type": "markdown",
      "source": [
        "# **IN401109 พื้นฐานวิทยาการข้อมูลและปัญญาประดิษฐ์**"
      ],
      "metadata": {
        "id": "gL3RwBR8-nPL"
      }
    },
    {
      "cell_type": "markdown",
      "source": [
        "# **1. คำสั่งในการแสดงผล**\n",
        "\n"
      ],
      "metadata": {
        "id": "H4Z4D3rB-18T"
      }
    },
    {
      "cell_type": "markdown",
      "source": [
        "```\n",
        "print(สิ่งที่ต้องการแสดงผล)\n",
        "```\n",
        "\n",
        "สามารถใช้การแสดงผลได้หลายรูปแบบ เช่น ข้อความ ตัวเลข ตัวแปร เป็นต้น\n",
        "\n",
        "**1. การแสดงผลข้อความ**\n",
        "\n",
        "  ต้องใช้สัญลักษณ์ \"...\" หรือ '...' สามารถใช้ได้ทั้ง 2 แบบ เพื่อกำหนดว่าค่านั้นคือ \"ข้อความ\"\n",
        "\n",
        "  ```\n",
        "  print(\"IN401109\")\n",
        "\n",
        "  print('พื้นฐานวิทยาการข้อมูลและปัญญาประดิษฐ์')\n",
        "  ```\n",
        "\n",
        "**2. การแสดงผลตัวเลข**\n",
        "\n",
        "  เราสามารถใส่ตัวเลขลงไปได้เลย\n",
        "\n",
        "  ```\n",
        "  print(225)\n",
        "\n",
        "  print(783.4841)\n",
        "  ```\n",
        "**3. การแสดงผลตัวแปร**\n",
        "\n",
        "  เราสามารถใส่ตัวแปรลงได้ได้เลยเช่นกัน\n",
        "\n",
        "  ```\n",
        "  print(x)\n",
        "\n",
        "  print(num)\n",
        "  ```"
      ],
      "metadata": {
        "id": "iUX6Cm2kDArS"
      }
    },
    {
      "cell_type": "code",
      "source": [
        "# การแสดงผลข้อความ\n",
        "print(\"IN401109\")\n",
        "print('พื้นฐานวิทยาการข้อมูลและปัญญาประดิษฐ์')\n",
        "print(\"IN401109\",'พื้นฐานวิทยาการข้อมูลและปัญญาประดิษฐ์')\n",
        "print(\"IN401109\"+'พื้นฐานวิทยาการข้อมูลและปัญญาประดิษฐ์')"
      ],
      "metadata": {
        "id": "09PyiVuwAAzB",
        "colab": {
          "base_uri": "https://localhost:8080/"
        },
        "outputId": "ec610388-7461-4225-df63-e7b2e1da5052"
      },
      "execution_count": null,
      "outputs": [
        {
          "output_type": "stream",
          "name": "stdout",
          "text": [
            "IN401109\n",
            "พื้นฐานวิทยาการข้อมูลและปัญญาประดิษฐ์\n",
            "IN401109 พื้นฐานวิทยาการข้อมูลและปัญญาประดิษฐ์\n",
            "IN401109พื้นฐานวิทยาการข้อมูลและปัญญาประดิษฐ์\n"
          ]
        }
      ]
    },
    {
      "cell_type": "code",
      "source": [
        "# การแสดงผลตัวเลข\n",
        "print(225)\n",
        "print(783.4841)\n",
        "print(\"ผลรวมของทั้งสองค่า\",225+783.4841)"
      ],
      "metadata": {
        "id": "uLGHzWpZBub2",
        "colab": {
          "base_uri": "https://localhost:8080/"
        },
        "outputId": "d7f79ef1-9d8a-462a-9d60-fc9d047f5169"
      },
      "execution_count": null,
      "outputs": [
        {
          "output_type": "stream",
          "name": "stdout",
          "text": [
            "225\n",
            "783.4841\n",
            "ผลรวมของทั้งสองค่า 1008.4841\n"
          ]
        }
      ]
    },
    {
      "cell_type": "code",
      "source": [
        "# การแสดงผลตัวแปร\n",
        "x = 4\n",
        "num = [5,89,5.488,\"jfi\",\"dwd\"]\n",
        "print(\"ค่าของ x คือ\",x)\n",
        "print(\"ค่าของ num คือ\",num)"
      ],
      "metadata": {
        "id": "xb3qnMXxCFK6",
        "colab": {
          "base_uri": "https://localhost:8080/"
        },
        "outputId": "a1557a9e-5d1e-4ac1-a100-465d6aeae6ad"
      },
      "execution_count": null,
      "outputs": [
        {
          "output_type": "stream",
          "name": "stdout",
          "text": [
            "ค่าของ x คือ 4\n",
            "ค่าของ num คือ [5, 89, 5.488, 'jfi', 'dwd']\n"
          ]
        }
      ]
    },
    {
      "cell_type": "markdown",
      "source": [
        "# **2. คำสั่งในการตกแต่งการแสดงผล**"
      ],
      "metadata": {
        "id": "QbN1kHplCkIP"
      }
    },
    {
      "cell_type": "markdown",
      "source": [
        "การเขียนอักขระพิเศษ จะต้องอยู่ภายในเครื่องหมาย \"...\" หรือ '...' เท่านั้น เพราะถือว่าเป็นประเภทข้อความ\n",
        "\n",
        "โดยการเขียอักขระพิเศษนั้น ต้องขึ้นต้นด้วย \\ เสมอ\n",
        "\n",
        "*   \\n   เป็นการขึ้นบรรทัดใหม่\n",
        "*   \\t   เป็นการกด Tab"
      ],
      "metadata": {
        "id": "vwyc6WRTCvmR"
      }
    },
    {
      "cell_type": "code",
      "source": [
        "# การแสดงผลโดยใช้ \\n ร่วมด้วย\n",
        "print(\"12\")           #พิมพ์ปกติ\n",
        "print(\"34\")\n",
        "print(\"56\")\n",
        "print(\"============\")\n",
        "print(\"12\\n34\\n56\")   #พิมพ์โดยใช้ \\n"
      ],
      "metadata": {
        "id": "o0BRKdeptShp",
        "colab": {
          "base_uri": "https://localhost:8080/"
        },
        "outputId": "1b08b54f-260e-4c47-a52e-312b3a7948df"
      },
      "execution_count": null,
      "outputs": [
        {
          "output_type": "stream",
          "name": "stdout",
          "text": [
            "12\n",
            "34\n",
            "56\n",
            "============\n",
            "12\n",
            "34\n",
            "56\n"
          ]
        }
      ]
    },
    {
      "cell_type": "code",
      "source": [
        "# การแสดงผลโดยใช้ \\t ร่วมด้วย\n",
        "print(\"วัน\",\"เดือน\",\"ปี\")      #พิมพ์ปกติ\n",
        "print(\"5\",\"7\",\"2567\")\n",
        "print(\"===================\")\n",
        "print(\"วัน\",\" เดือน\",\" ปี\")    #พิมพ์ปกติแต่เพิ่มเว้นวรรค\n",
        "print(\"5\",\"  7\",\"    2567\")\n",
        "print(\"===================\")\n",
        "print(\"วัน\\t\",\"เดือน\\t\",\"ปี\")  #พิมพ์โดยใช้ \\t\n",
        "print(\"5\\t\",\"7\\t\",\"2567\")"
      ],
      "metadata": {
        "id": "2Rs_NwQXtvR7",
        "colab": {
          "base_uri": "https://localhost:8080/"
        },
        "outputId": "edd7a804-48af-441b-97a0-08db9e2507ff"
      },
      "execution_count": null,
      "outputs": [
        {
          "output_type": "stream",
          "name": "stdout",
          "text": [
            "วัน เดือน ปี\n",
            "5 7 2567\n",
            "===================\n",
            "วัน  เดือน  ปี\n",
            "5   7     2567\n",
            "===================\n",
            "วัน\t เดือน\t ปี\n",
            "5\t 7\t 2567\n"
          ]
        }
      ]
    },
    {
      "cell_type": "markdown",
      "source": [
        "# **กิจกรรมที่ 1**"
      ],
      "metadata": {
        "id": "4RvQcAvWy-iZ"
      }
    },
    {
      "cell_type": "markdown",
      "source": [
        "**จงทำตามรูปแบบที่กำหนดให้ โดยต้องใช้คำสั่งในการตกแต่งการแสดงผลร่วมด้วย**\n",
        "\n",
        "![image.png](data:image/png;base64,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)"
      ],
      "metadata": {
        "id": "1ugoArQCzDC9"
      }
    },
    {
      "cell_type": "code",
      "source": [
        "# กิจกรรมที่ 1\n",
        "\n",
        "print(\"ชื่อ\\t:\\tนางสาวบุณยวีย์ ตินานพ\")\n",
        "print(\"สาขา\\t:\\tวิทยาการคอมพิวเตอร์ และสารสนเทศ\")\n",
        "print(\"วิชาเอก\\t:\\tวิทยาการข้อมูลและปัญญาประดิษฐ์\")\n",
        "print(\"วันเกิด\\t:\\t07\\nเดือนเกิด\\t:\\tเมษายน\\nปีเกิด\\t:\\t2547\")\n",
        "print(\"อายุ\\t:\\t21 ปี\")"
      ],
      "metadata": {
        "id": "jxWK0Z7r4wnj"
      },
      "execution_count": null,
      "outputs": []
    },
    {
      "cell_type": "markdown",
      "source": [
        "# **3. การสร้างตัวแปร**"
      ],
      "metadata": {
        "id": "zbGNU0QeeJ9X"
      }
    },
    {
      "cell_type": "markdown",
      "source": [
        "ตัวแปร (Variable) คือที่ตั้ง (storage location) หรือชื่อ (identifier) ที่เราใช้เพื่อเก็บข้อมูลหรือค่าต่างๆ ในโปรแกรม ตัวแปรสามารถเก็บค่าหลายประเภท\n",
        "\n",
        "โดยมีกฏการตั้งชื่อตัวแปรดังนี้\n",
        "1. ขึ้นต้นด้วยตัวอักษรภาษาอังกฤษ แล้วตามด้วยตัวอักษรหรือตัวเลขใดๆก็ได้ (ห้ามขึ้นต้นด้วยตัวเลข)\n",
        "2. ห้ามเว้นช่องว่าง และห้ามใช้สัญลักษณ์พิเศษนอกเหนือจาก underscore “_” เท่านั้น\n",
        "3. ตัวอักษรของชื่อจะคำนึงถึงความแตกต่างระหว่างอักษรตัวพิมพ์ใหญ่กับตัวพิมพ์เล็ก\n",
        "4. จะต้องไม่ซ้ำกับคำสงวน (Reserved word, Keyword)\n",
        "5. ควรจะตั้งชื่อโดยให้ชื่อนั้นมีสื่อความหมายให้เข้ากับข้อมูล สามารถอ่านและเข้าใจได้\n",
        "6. ห้ามใช้เครื่องหมายต่อไปนี้ในการตั้งชื่อตัวแปร !,@, #, $, %, ^, &, *, (, ), -, =, \\, |, +, ~\n",
        "7. ตัวแปรที่มีพิมพ์ใหญ่และตัวพิมพ์เล็กผสมกันจะมีความหมายต่างกัน กับตัวพิมพ์เล็กเพียงอย่างเดียว\n",
        "\n",
        "\n",
        "\n"
      ],
      "metadata": {
        "id": "JtJyqRJLeNlA"
      }
    },
    {
      "cell_type": "markdown",
      "source": [
        "**Many Values to Multiple Variables**\n",
        "\n",
        "สามารถทำได้โดยการแยกค่าด้วยเครื่องหมายจุลภาค (comma) และกำหนดให้กับตัวแปรที่แยกด้วยเครื่องหมายจุลภาคเช่นกัน"
      ],
      "metadata": {
        "id": "TT6Wd5wOWV-7"
      }
    },
    {
      "cell_type": "code",
      "source": [
        "# กำหนดหลายค่าพร้อมกันให้กับหลายตัวแปร\n",
        "\n",
        "name, age, city = \"Alice\", 25, \"New York\"\n",
        "print(name, age, city)"
      ],
      "metadata": {
        "id": "O7slQrkOWbRC",
        "colab": {
          "base_uri": "https://localhost:8080/"
        },
        "outputId": "0c813a5c-206c-4e5d-8304-392487a6aebc"
      },
      "execution_count": null,
      "outputs": [
        {
          "output_type": "stream",
          "name": "stdout",
          "text": [
            "Alice 25 New York\n"
          ]
        }
      ]
    },
    {
      "cell_type": "code",
      "source": [
        "# สลับค่า\n",
        "\n",
        "x, y = 5, 10\n",
        "print(x, y)\n",
        "x, y = y, x\n",
        "print(x, y)\n"
      ],
      "metadata": {
        "id": "Y7gDvkGdW3xW",
        "colab": {
          "base_uri": "https://localhost:8080/"
        },
        "outputId": "7c84d551-fc1f-4ca0-f73f-8b8aab8b408f"
      },
      "execution_count": null,
      "outputs": [
        {
          "output_type": "stream",
          "name": "stdout",
          "text": [
            "5 10\n",
            "10 5\n"
          ]
        }
      ]
    },
    {
      "cell_type": "code",
      "source": [
        "#การใช้งานกับข้อมูลในรูปแบบลิสต์\n",
        "\n",
        "person_info = [\"Alice\", 30, \"Engineer\"]\n",
        "name, age, occupation = person_info\n",
        "print(name)\n",
        "print(age)\n",
        "print(occupation)"
      ],
      "metadata": {
        "id": "wuUItk4EXGQK",
        "outputId": "701943b4-fb7c-4a06-f275-50bc50319ebb",
        "colab": {
          "base_uri": "https://localhost:8080/"
        }
      },
      "execution_count": null,
      "outputs": [
        {
          "output_type": "stream",
          "name": "stdout",
          "text": [
            "Alice\n",
            "30\n",
            "Engineer\n"
          ]
        }
      ]
    },
    {
      "cell_type": "markdown",
      "source": [
        "# **กิจกรรมที่ 2**"
      ],
      "metadata": {
        "id": "0knOHrNwgHTF"
      }
    },
    {
      "cell_type": "markdown",
      "source": [
        "จากตัวอย่างการตั้งชื่อต่อไปนี้ ข้อใดถูก ข้อใดผิดเพราะอะไร\n",
        "\n",
        "1.my_name\n",
        "<p>ตอบ ถูก\n",
        "\n",
        "2.my name\n",
        "<p>ตอบ ผิด เพราะมีเว้นวรรค\n",
        "\n",
        "3.age\n",
        "<p>ตอบ ถูก\n",
        "\n",
        "4.123abc\n",
        "<p>ตอบ ผิด เพราะไม่ควรใช้ตัวเลขนำหน้า\n",
        "\n",
        "5.variable-3\n",
        "<p>ตอบ ผิด เพราะสัญลักษณ์พิเศษใช้ได้แค่ _ เท่านั้น\n",
        "\n",
        "6.if\n",
        "<p>ตอบ ผิด เพราะคือคำสงวน\n"
      ],
      "metadata": {
        "id": "yRmlwmo4gMvB"
      }
    },
    {
      "cell_type": "markdown",
      "source": [
        "# **4. Data type ประเภทของข้อมูล**"
      ],
      "metadata": {
        "id": "UOe4GUVc7y2U"
      }
    },
    {
      "cell_type": "markdown",
      "source": [
        "1.   **ข้อความ** (Text Type) :\t**str**\n",
        "2.   **ตัวเลข** (Numeric Types) :\t**int**, **float**, **complex**\n",
        "3.   **ข้อมูลแบบชุดหลายจำนวน** (Sequence Types) :\t**list**, **tuple**, **range**\n",
        "4.   ข้อมูลแบบจับคู่กับค่ารหัส (Mapping Type) :\tdict\n",
        "5.   **เซต (Set Types) :\tset, frozenset**\n",
        "6.   **ข้อมูลแบบตรรกะ** (Boolean Type) :\t**bool**\n",
        "7.   Binary Types :\tbytes, bytearray, memoryview\n",
        "8.   None Type :\tNoneType\n",
        "\n",
        "โดยที่เราสามารถใช้คำสั่งในการเช็คได้ว่าข้อมูลนั้นคือประเภทอะไร ได้จาก\n",
        "\n",
        "\n",
        "```\n",
        "print(type(ตัวแปรที่ต้องการเช็ค))\n",
        "```\n",
        "\n"
      ],
      "metadata": {
        "id": "k-Y2VzMe_Gg3"
      }
    },
    {
      "cell_type": "markdown",
      "source": [
        "**1. ประเภทข้อความ (str)**\n",
        "<p> str ย่อมาจาก string มีความหมายว่าข้อความ\n",
        "\n",
        "*   ข้อมูลรูปแบบข้อความสามารถเป็นอะไรก็ได้ เช่น ตัวอักษรภาษาไทย ภาษาอังกฤษ ตัวเลข เป็นต้น\n",
        "*   แต่จำเป็นต้องใช้เครื่องหมาย \"...\" หรือ '...' ครอบไว้ จึงจะถือว่าเป็นประเภทข้อความ\n",
        "*   ข้อความนั้นไม่สามารถบวกกันได้ หรือก็คือนำมาคำนวณไม่ได้\n",
        "*   แต่ข้อความนั้นสามารถใช้เครื่องหมาย + ได้ ซึ่งจะเป็นการนำมาต่อกัน ไม่ใช่การเพิ่ม\n",
        "   \n",
        "\n"
      ],
      "metadata": {
        "id": "Fmx1unNMZUT5"
      }
    },
    {
      "cell_type": "code",
      "source": [
        "# ประเภทข้อความ\n",
        "x = \"5\"\n",
        "y = \"five\"\n",
        "z = 'ห้า'\n",
        "\n",
        "print(type(x))\n",
        "print(type(y))\n",
        "print(type(z))"
      ],
      "metadata": {
        "id": "DJRrAi4Nbe6f",
        "colab": {
          "base_uri": "https://localhost:8080/"
        },
        "outputId": "031fc5db-a8f3-46ff-9887-8921f483e9c9"
      },
      "execution_count": null,
      "outputs": [
        {
          "output_type": "stream",
          "name": "stdout",
          "text": [
            "<class 'str'>\n",
            "<class 'str'>\n",
            "<class 'str'>\n"
          ]
        }
      ]
    },
    {
      "cell_type": "markdown",
      "source": [
        "**2. ประเภทตัวเลข**\n",
        "\n",
        "ประเภทของตัวเลขสามารถแบ่งออกได้เป็น 3 ประเภทได้แก่ int, float และ complex ซึ่งสามารถใช้ตัวดำเนินการทางคณิตศาสตร์ หรือก็คือคำนวณได้\n",
        "\n",
        "1.   int หรือ integer\n",
        "\n",
        "  *   คือจำนวนเต็ม แบ่งออกเป็น เต็มลบ เต็มศูนย์ เต็มบวก เช่น\n",
        "  ```\n",
        "  i1 = -5    #เต็มลบ\n",
        "  i2 = 0     #เต็มศูนย์\n",
        "  i3 = 10    #เต็มบวก\n",
        "  ```\n",
        "2.   float หรือ floating-point numbers\n",
        "  *   จำนวนที่เป็นทศนิยม เช่น\n",
        "  ```\n",
        "  f1 = -5.124    \n",
        "  f2 = 0.64      \n",
        "  f3 = 10.218    \n",
        "  ```\n",
        "3.   complex\n",
        "  *   จำนวนเชิงซ้อน เช่น\n",
        "  ```\n",
        "  z1 = 3 + 4j\n",
        "  z2 = 5 - 2j\n",
        "  ```"
      ],
      "metadata": {
        "id": "2T1KQ161cnVn"
      }
    },
    {
      "cell_type": "code",
      "source": [
        "# การใช้งาน frozenset ในเซ็ตอื่น\n",
        "\n",
        "fs2 = frozenset([1, 2, 3])\n",
        "s7 = {fs2, 4, 5}\n",
        "print(s7)"
      ],
      "metadata": {
        "colab": {
          "base_uri": "https://localhost:8080/"
        },
        "id": "mDo8dbSbIO-I",
        "outputId": "a700663a-b060-4325-e1f6-ed6d7ff89a47"
      },
      "execution_count": null,
      "outputs": [
        {
          "output_type": "stream",
          "name": "stdout",
          "text": [
            "{1, 3}\n"
          ]
        }
      ]
    },
    {
      "cell_type": "code",
      "source": [
        "# ประเภทตัวเลข\n",
        "x = 17\n",
        "y = 2.89\n",
        "z = 7 + 1j\n",
        "\n",
        "print(type(x),\"\\t\\tค่าของ x คือ\",x)\n",
        "print(type(y),\"\\tค่าของ y คือ\",y)\n",
        "print(type(z),\"\\tค่าของ z คือ\",z)"
      ],
      "metadata": {
        "id": "kSo6RZ7wjdk4",
        "colab": {
          "base_uri": "https://localhost:8080/"
        },
        "outputId": "c1f366ae-fd1f-493e-df03-f127abe35bd5"
      },
      "execution_count": null,
      "outputs": [
        {
          "output_type": "stream",
          "name": "stdout",
          "text": [
            "range(1, 10, 2)\n"
          ]
        }
      ]
    },
    {
      "cell_type": "code",
      "source": [
        "# การแปลงตัวเลข\n",
        "a = float(17)\n",
        "b = int(17.561)\n",
        "c = int(\"10\")\n",
        "\n",
        "\n",
        "print(type(a),\"\\tค่าของ a คือ\",a)\n",
        "print(type(b),\"\\t\\tค่าของ b คือ\",b)\n",
        "print(type(c),\"\\t\\tค่าของ c คือ\",c)"
      ],
      "metadata": {
        "id": "EFIsrWr6jz7R",
        "colab": {
          "base_uri": "https://localhost:8080/"
        },
        "outputId": "69d5572b-5818-4236-9bd7-e0c186559ea0"
      },
      "execution_count": null,
      "outputs": [
        {
          "output_type": "stream",
          "name": "stdout",
          "text": [
            "<class 'float'> \tค่าของ a คือ 17.0\n",
            "<class 'int'> \t\tค่าของ b คือ 17\n",
            "<class 'int'> \t\tค่าของ c คือ 10\n"
          ]
        }
      ]
    },
    {
      "cell_type": "code",
      "source": [
        "# จำนวนเชิงซ้อน\n",
        "z1 = 3 + 4j\n",
        "\n",
        "print(z1)\n",
        "print(z1.real) #ส่วนที่เป็นจริง\n",
        "print(z1.imag) #ส่วนที่เป็นจิตภาพ"
      ],
      "metadata": {
        "id": "MIydVHVBNMno",
        "colab": {
          "base_uri": "https://localhost:8080/"
        },
        "outputId": "255be969-130d-47e2-e8a5-58d046d42766"
      },
      "execution_count": null,
      "outputs": [
        {
          "output_type": "stream",
          "name": "stdout",
          "text": [
            "(3+4j)\n",
            "3.0\n",
            "4.0\n"
          ]
        }
      ]
    },
    {
      "cell_type": "markdown",
      "source": [
        "**3. ประเภทข้อมูลแบบชุดหลายจำนวน**\n",
        "<p> เป็นประเภทข้อมูลที่ใช้ในการเก็บคอลเล็กชันขององค์ประกอบในลำดับที่กำหนด เช่น list, tuple และ range\n",
        "\n",
        "1.   list\n",
        "\n",
        "  *   ลำดับขององค์ประกอบที่สามารถแก้ไขได้\n",
        "  *   องค์ประกอบใน list สามารถเป็นได้ทุกประเภทข้อมูล\n",
        "  *   สร้างโดยใช้เครื่องหมายวงเล็บเหลี่ยม [  ]\n",
        "  ```\n",
        "  my_list = [1, 2, 3, \"hello\", 4.5]\n",
        "  ```\n",
        "\n",
        "2.   tuple\n",
        "\n",
        "  *   ลำดับขององค์ประกอบที่ไม่สามารถแก้ไขได้\n",
        "  *   องค์ประกอบใน tuple สามารถเป็นได้ทุกประเภทข้อมูล\n",
        "  *   สร้างโดยใช้เครื่องหมายวงเล็บ (  )\n",
        "  ```\n",
        "  my_tuple = (1, 2, 3, \"hello\", 4.5)\n",
        "  ```\n",
        "3.   range\n",
        "\n",
        "  *   ลำดับของตัวเลขในช่วงที่กำหนด\n",
        "  *   ใช้สำหรับการวนลูปหรือสร้างลำดับตัวเลข\n",
        "  *   สร้างโดยใช้ฟังก์ชัน range(start, stop, step)\n",
        "  ```\n",
        "  my_range = range(1, 10, 2)\n",
        "  ```"
      ],
      "metadata": {
        "id": "IrwOcW9YITui"
      }
    },
    {
      "cell_type": "code",
      "source": [
        "# สร้าง list\n",
        "\n",
        "ml1 = [1, 2, 3, \"hello\", 4.5]\n",
        "print(ml1)\n",
        "print(type(ml1))"
      ],
      "metadata": {
        "id": "2GE7kyU_KxlD",
        "colab": {
          "base_uri": "https://localhost:8080/"
        },
        "outputId": "6480a3bc-f257-4fac-fab2-e7a999ee6bc0"
      },
      "execution_count": null,
      "outputs": [
        {
          "output_type": "stream",
          "name": "stdout",
          "text": [
            "[1, 2, 3, 'hello', 4.5]\n",
            "<class 'list'>\n"
          ]
        }
      ]
    },
    {
      "cell_type": "code",
      "source": [
        "# เรียกดูองค์ประกอบใน list ตามตำแหน่งที่ต้องการ\n",
        "\n",
        "ml2 = [1, 2, 3, \"hello\", 4.5]\n",
        "print(ml2[3])"
      ],
      "metadata": {
        "id": "fFYsoEdkK_zl",
        "colab": {
          "base_uri": "https://localhost:8080/"
        },
        "outputId": "025aacd9-6131-4a03-911a-114b6f8b1303"
      },
      "execution_count": null,
      "outputs": [
        {
          "output_type": "stream",
          "name": "stdout",
          "text": [
            "hello\n"
          ]
        }
      ]
    },
    {
      "cell_type": "code",
      "source": [
        "# เปลี่ยนค่าองค์ประกอบใน list ตามตำแหน่งที่ต้องการ\n",
        "\n",
        "ml3 = [1, 2, 3, \"hello\", 4.5]\n",
        "ml3[3] = \"world\"\n",
        "print(ml3)"
      ],
      "metadata": {
        "id": "EzJ8ZUZKLOT6",
        "colab": {
          "base_uri": "https://localhost:8080/"
        },
        "outputId": "ba729d7c-5680-4537-f4a0-435ca13cbca0"
      },
      "execution_count": null,
      "outputs": [
        {
          "output_type": "stream",
          "name": "stdout",
          "text": [
            "[1, 2, 3, 'world', 4.5]\n"
          ]
        }
      ]
    },
    {
      "cell_type": "code",
      "source": [
        "# สร้าง tuple\n",
        "\n",
        "mt1 = (1, 2, 3, \"hello\", 4.5)\n",
        "print(mt1)\n",
        "print(type(mt1))"
      ],
      "metadata": {
        "id": "uTgvt86TLmmi",
        "colab": {
          "base_uri": "https://localhost:8080/"
        },
        "outputId": "aa7e90b5-0b18-4a3e-c87c-db8f4892547a"
      },
      "execution_count": null,
      "outputs": [
        {
          "output_type": "stream",
          "name": "stdout",
          "text": [
            "(1, 2, 3, 'hello', 4.5)\n",
            "<class 'tuple'>\n"
          ]
        }
      ]
    },
    {
      "cell_type": "code",
      "source": [
        "# เรียกดูองค์ประกอบใน tuple ตามตำแหน่งที่ต้องการ\n",
        "\n",
        "mt2 = (1, 2, 3, \"hello\", 4.5)\n",
        "print(mt2[0])"
      ],
      "metadata": {
        "id": "WwmBx0WSLyoI",
        "colab": {
          "base_uri": "https://localhost:8080/"
        },
        "outputId": "06fd5084-327d-454a-f6b9-317fa038f82c"
      },
      "execution_count": null,
      "outputs": [
        {
          "output_type": "stream",
          "name": "stdout",
          "text": [
            "1\n"
          ]
        }
      ]
    },
    {
      "cell_type": "code",
      "source": [
        "# เปลี่ยนค่าองค์ประกอบใน tuple ตามตำแหน่งที่ต้องการ\n",
        "\n",
        "mt3 = (1, 2, 3, \"hello\", 4.5)\n",
        "mt3[3] = \"world\"\n",
        "print(mt3)"
      ],
      "metadata": {
        "id": "oEXUmpmxL7Rh"
      },
      "execution_count": null,
      "outputs": []
    },
    {
      "cell_type": "code",
      "source": [
        "# สร้าง range\n",
        "\n",
        "mr1 = range(1, 10, 2)\n",
        "print(mr1)\n",
        "print(type(mr1))"
      ],
      "metadata": {
        "id": "esq0zjGtML2p",
        "colab": {
          "base_uri": "https://localhost:8080/"
        },
        "outputId": "3ea7c3b4-b1bf-4140-c6c8-d351be21618a"
      },
      "execution_count": null,
      "outputs": [
        {
          "output_type": "stream",
          "name": "stdout",
          "text": [
            "range(1, 10, 2)\n",
            "<class 'range'>\n"
          ]
        }
      ]
    },
    {
      "cell_type": "code",
      "source": [
        "# เรียกดู range\n",
        "\n",
        "mr1 = range(1, 10, 2)\n",
        "print(list(mr1))"
      ],
      "metadata": {
        "id": "jlPIY1eIMX6Q",
        "colab": {
          "base_uri": "https://localhost:8080/"
        },
        "outputId": "9b5e7af1-2a1e-4d64-e714-3e44448f5aa9"
      },
      "execution_count": null,
      "outputs": [
        {
          "output_type": "stream",
          "name": "stdout",
          "text": [
            "[1, 3, 5, 7, 9]\n"
          ]
        }
      ]
    },
    {
      "cell_type": "markdown",
      "source": [
        "**4. เซต (Set)**\n",
        "<p> เป็นประเภทข้อมูลที่ใช้สำหรับเก็บคอลเล็กชันขององค์ประกอบที่ไม่ซ้ำกัน แบ่งออกเป็น set และ frozenset\n",
        "\n",
        "1.   set\n",
        "  *   เป็นคอลเล็กชันขององค์ประกอบที่ไม่ซ้ำกัน สร้างเซตที่มีองค์ประกอบซ้ำได้ แต่เมื่อแสดงผลจะไม่ซ้ำกัน\n",
        "  *   สามารถแก้ไขได้\n",
        "  *   ไม่มีลำดับที่แน่นอน\n",
        "  *   ไม่สามารถเข้าถึงตำแหน่งได้\n",
        "\n",
        "2.   frozenset\n",
        "  *   เป็นคอลเล็กชันขององค์ประกอบที่ไม่ซ้ำกัน สร้างเซตที่มีองค์ประกอบซ้ำได้ แต่เมื่อแสดงผลจะไม่ซ้ำกัน\n",
        "  *   ไม่สามารถแก้ไขได้\n",
        "  *   ไม่มีลำดับที่แน่นอน\n",
        "  *   ไม่สามารถเข้าถึงตำแหน่งได้\n"
      ],
      "metadata": {
        "id": "B--K9xMYRtH_"
      }
    },
    {
      "cell_type": "code",
      "source": [
        "# การสร้างเซต\n",
        "\n",
        "s1 = {3, 1, 4, 1, 5, 9, 2, 6, 5, 3, 5}\n",
        "s2 = set()\n",
        "\n",
        "print(s1)\n",
        "print(s2)\n",
        "\n",
        "print(type(s1))\n",
        "print(type(s2))"
      ],
      "metadata": {
        "id": "FxcxmzdeYcyO",
        "colab": {
          "base_uri": "https://localhost:8080/"
        },
        "outputId": "89396df3-768d-47fe-afea-5a7529bccc9e"
      },
      "execution_count": null,
      "outputs": [
        {
          "output_type": "stream",
          "name": "stdout",
          "text": [
            "{1, 2, 3, 4, 5, 6, 9}\n",
            "set()\n",
            "<class 'set'>\n",
            "<class 'set'>\n"
          ]
        }
      ]
    },
    {
      "cell_type": "code",
      "source": [
        "# การสร้าง set จาก list\n",
        "\n",
        "s3 = set([1, 2, 3, 4, 5])\n",
        "print(s3)\n",
        "print(type(s3))"
      ],
      "metadata": {
        "id": "RxrxOSL3ZDVS",
        "colab": {
          "base_uri": "https://localhost:8080/"
        },
        "outputId": "9fbc8196-f620-498e-84f4-33256fbf8a96"
      },
      "execution_count": null,
      "outputs": [
        {
          "output_type": "stream",
          "name": "stdout",
          "text": [
            "{1, 2, 3, 4, 5}\n",
            "<class 'set'>\n"
          ]
        }
      ]
    },
    {
      "cell_type": "code",
      "source": [
        "# เพิ่มองค์ประกอบ\n",
        "s4 = {1, 2, 3}\n",
        "\n",
        "s4.add(4)\n",
        "print(s4)"
      ],
      "metadata": {
        "id": "k76J9_dBZZdy",
        "colab": {
          "base_uri": "https://localhost:8080/"
        },
        "outputId": "0b988b08-da18-4f9f-d293-48e7d9f4dc58"
      },
      "execution_count": null,
      "outputs": [
        {
          "output_type": "stream",
          "name": "stdout",
          "text": [
            "{1, 2, 3, 4}\n"
          ]
        }
      ]
    },
    {
      "cell_type": "code",
      "source": [
        "# ลบองค์ประกอบ\n",
        "\n",
        "s5 = {1, 2, 3, 4}\n",
        "\n",
        "s5.remove(2)\n",
        "s5.discard(6)\n",
        "print(s5)"
      ],
      "metadata": {
        "id": "i5zeHUZyZahl",
        "colab": {
          "base_uri": "https://localhost:8080/"
        },
        "outputId": "bb8b7e6b-13a4-471b-9170-57742b173556"
      },
      "execution_count": null,
      "outputs": [
        {
          "output_type": "stream",
          "name": "stdout",
          "text": [
            "{1, 3, 4}\n"
          ]
        }
      ]
    },
    {
      "cell_type": "code",
      "source": [
        "# การตรวจสอบสมาชิก\n",
        "\n",
        "s6 = {1, 2, 3}\n",
        "\n",
        "print(1 in s6)\n",
        "print(4 in s6)"
      ],
      "metadata": {
        "id": "u6ibF-SuZu9f",
        "colab": {
          "base_uri": "https://localhost:8080/"
        },
        "outputId": "68a7ad9e-bb55-46fc-8baf-d1ce2c1d3c46"
      },
      "execution_count": null,
      "outputs": [
        {
          "output_type": "stream",
          "name": "stdout",
          "text": [
            "True\n",
            "False\n"
          ]
        }
      ]
    },
    {
      "cell_type": "code",
      "source": [
        "# การสร้าง frozenset\n",
        "\n",
        "fs1 = frozenset([1, 2, 3, 4])\n",
        "print(fs1)"
      ],
      "metadata": {
        "id": "EYfJSBKfaD0b",
        "colab": {
          "base_uri": "https://localhost:8080/"
        },
        "outputId": "ccf8abfa-c00b-4b19-dd12-2bad0122c9f7"
      },
      "execution_count": null,
      "outputs": [
        {
          "output_type": "stream",
          "name": "stdout",
          "text": [
            "frozenset({1, 2, 3, 4})\n"
          ]
        }
      ]
    },
    {
      "cell_type": "code",
      "source": [
        "# การใช้งาน frozenset ในเซ็ตอื่น\n",
        "\n",
        "fs2 = frozenset([1, 2, 3])\n",
        "s7 = {fs2, 4, 5}\n",
        "print(s7)\n"
      ],
      "metadata": {
        "id": "tKJZkuraZ5cf",
        "colab": {
          "base_uri": "https://localhost:8080/"
        },
        "outputId": "a0070749-7c2e-40bf-c6ca-3f86c3a8ad78"
      },
      "execution_count": null,
      "outputs": [
        {
          "output_type": "stream",
          "name": "stdout",
          "text": [
            "{frozenset({1, 2, 3}), 4, 5}\n"
          ]
        }
      ]
    },
    {
      "cell_type": "markdown",
      "source": [
        "**5. ประเภทตรรกะ (Bool)**\n",
        "<p> bool หรือ boolean ประเภทข้อมูลที่ใช้ในการแทนค่าความจริง (truth values) ซึ่งมีสองค่าเท่านั้น คือ True และ False"
      ],
      "metadata": {
        "id": "4Oyf-3x_Mx93"
      }
    },
    {
      "cell_type": "code",
      "source": [
        "# การสร้างค่า Boolean\n",
        "\n",
        "b1 = True\n",
        "b2 = False\n",
        "\n",
        "print(type(b1))\n",
        "print(type(b2))"
      ],
      "metadata": {
        "id": "cIJmvhRDN7jx",
        "colab": {
          "base_uri": "https://localhost:8080/"
        },
        "outputId": "6842a998-1ee7-4520-fc52-bd4ddac5e1fb"
      },
      "execution_count": null,
      "outputs": [
        {
          "output_type": "stream",
          "name": "stdout",
          "text": [
            "<class 'bool'>\n",
            "<class 'bool'>\n"
          ]
        }
      ]
    },
    {
      "cell_type": "code",
      "source": [
        "# การเปรียบเทียบค่า\n",
        "\n",
        "b3 = 5\n",
        "b4 = 10\n",
        "\n",
        "print(b3 == b4)\n",
        "print(b3 < b4)\n",
        "print(b3 > b4)\n"
      ],
      "metadata": {
        "id": "U7HAMkGlOAgG",
        "colab": {
          "base_uri": "https://localhost:8080/"
        },
        "outputId": "7bcf92a9-4663-4375-e70d-1eb8d42cf36f"
      },
      "execution_count": null,
      "outputs": [
        {
          "output_type": "stream",
          "name": "stdout",
          "text": [
            "False\n",
            "True\n",
            "False\n"
          ]
        }
      ]
    },
    {
      "cell_type": "code",
      "source": [
        "# การแปลงประเภทข้อมูลเป็น Boolean\n",
        "\n",
        "print(bool(1))\n",
        "print(bool(0))\n",
        "print(bool([]))\n",
        "print(bool([1, 2, 3]))\n",
        "print(bool(\"\"))\n",
        "print(bool(\"Hello\"))"
      ],
      "metadata": {
        "id": "JpRQdNe1OJli",
        "colab": {
          "base_uri": "https://localhost:8080/"
        },
        "outputId": "2aa67fa6-290c-41d0-ffd0-2b77e5db512e"
      },
      "execution_count": null,
      "outputs": [
        {
          "output_type": "stream",
          "name": "stdout",
          "text": [
            "True\n",
            "False\n",
            "False\n",
            "True\n",
            "False\n",
            "True\n"
          ]
        }
      ]
    },
    {
      "cell_type": "code",
      "source": [
        "# การใช้ตัวดำเนินการทางตรรกะ\n",
        "\n",
        "a = True\n",
        "b = False\n",
        "\n",
        "print(a and b)\n",
        "print(a or b)\n",
        "print(not a)\n",
        "print(a != b)\n",
        "print(a == b)"
      ],
      "metadata": {
        "id": "2r7cxRtjOcav",
        "colab": {
          "base_uri": "https://localhost:8080/"
        },
        "outputId": "3bfac56e-6267-4599-d517-123525704926"
      },
      "execution_count": null,
      "outputs": [
        {
          "output_type": "stream",
          "name": "stdout",
          "text": [
            "False\n",
            "True\n",
            "False\n",
            "True\n",
            "False\n"
          ]
        }
      ]
    },
    {
      "cell_type": "markdown",
      "source": [
        "# **กิจกรรมที่ 3**"
      ],
      "metadata": {
        "id": "LF9Iqq_LO6qT"
      }
    },
    {
      "cell_type": "markdown",
      "source": [
        "**จงตอบคำถามต่อไปนี้**\n",
        "\n",
        "**1.   output ของคำสั่งนี้คืออะไร**\n",
        "  ```\n",
        "  x = 3.14\n",
        "  print(type(x))\n",
        "  ```"
      ],
      "metadata": {
        "id": "Vb9cEG5Mbdqe"
      }
    },
    {
      "cell_type": "code",
      "source": [
        "# 3.output ของคำสั่งนี้คืออะไร\n",
        "x = 3.14\n",
        "print(type(x))"
      ],
      "metadata": {
        "id": "HEhy6msIbeUb",
        "colab": {
          "base_uri": "https://localhost:8080/"
        },
        "outputId": "530c88f3-4653-42e3-dfec-da65c67cd60c"
      },
      "execution_count": null,
      "outputs": [
        {
          "output_type": "stream",
          "name": "stdout",
          "text": [
            "<class 'float'>\n"
          ]
        }
      ]
    },
    {
      "cell_type": "markdown",
      "source": [
        "**2.    output ของคำสั่งนี้คืออะไร**\n",
        "  ```\n",
        "  x = [1, 2, 3]\n",
        "  print(type(x))\n",
        "  ```"
      ],
      "metadata": {
        "id": "TR-14i3Vbuox"
      }
    },
    {
      "cell_type": "code",
      "source": [
        "# 5.output ของคำสั่งนี้คืออะไร\n",
        "x = [1, 2, 3]\n",
        "print(type(x))"
      ],
      "metadata": {
        "id": "_jgvAyC2bvTz",
        "colab": {
          "base_uri": "https://localhost:8080/"
        },
        "outputId": "481ad3c1-7d5b-4e7e-e84a-793e478b742c"
      },
      "execution_count": null,
      "outputs": [
        {
          "output_type": "stream",
          "name": "stdout",
          "text": [
            "<class 'list'>\n"
          ]
        }
      ]
    },
    {
      "cell_type": "markdown",
      "source": [
        "**3. คำสั่งในการลบองค์ประกอบจาก set มีอะไรบ้าง**\n",
        "\n",
        "ตอบ **remove และ discard**\n",
        "\n",
        "**4. เราสามารถเปลี่ยนแปลงค่าใน frozenset ได้หรือไม่**\n",
        "\n",
        "ตอบ **ไม่ได้**\n",
        "\n",
        "**5. การสร้างโดยใช้ ( ) เป็นการสร้างประเภทข้อมูลชนิดใด**\n",
        "\n",
        "ตอบ **tuple**\n",
        "\n",
        "**6. ข้อมูลประเภทตรระกะ มีค่าเป็นอะไรบ้าง**\n",
        "\n",
        "ตอบ **ture (1) และ false (0)**\n",
        "\n",
        "**7. เมื่อได้ทำการสร้าง list หรือ tuple แล้ว จากนั้นใช้คำสั่งตามด้านล่าง คือการทำอะไร**\n",
        "\n",
        "```\n",
        "print(m[2])\n",
        "```\n",
        "ตอบ **แสดงผลตำแหน่งที่ 2**\n"
      ],
      "metadata": {
        "id": "M1RbGY2HcDWs"
      }
    },
    {
      "cell_type": "markdown",
      "source": [
        "# **จงจัดเรียงข้อความให้ได้ตามที่กำหนด โดยแก้ไขโปรแกรมจากที่กำหนดให้**"
      ],
      "metadata": {
        "id": "Zj2hQ7BPBUqu"
      }
    },
    {
      "cell_type": "markdown",
      "source": [
        "1. ฉันรักคุณ"
      ],
      "metadata": {
        "id": "-SUQc27QBZsQ"
      }
    },
    {
      "cell_type": "code",
      "source": [
        "# ข้อที่ 1\n",
        "print(\"ฉัน\"+\"รัก\"+\"คุณ\")"
      ],
      "metadata": {
        "id": "sH3874S0BrsD",
        "colab": {
          "base_uri": "https://localhost:8080/"
        },
        "outputId": "18e57085-5c77-4740-d0fe-c44c9b2014c6"
      },
      "execution_count": null,
      "outputs": [
        {
          "output_type": "stream",
          "name": "stdout",
          "text": [
            "ฉันรักคุณ\n"
          ]
        }
      ]
    },
    {
      "cell_type": "markdown",
      "source": [
        "จงแก้ไข ERROR ที่เกิดขึ้นภายในโปรแกรมนี้"
      ],
      "metadata": {
        "id": "Miju2elQBxTy"
      }
    },
    {
      "cell_type": "code",
      "source": [
        "# ข้อที่ 2\n",
        "\n",
        "DATA1 = ('kku nkc')\n",
        "Data2 = (1234)\n",
        "print(DATA1,Data2)"
      ],
      "metadata": {
        "id": "uReHGkbiB1lj",
        "colab": {
          "base_uri": "https://localhost:8080/"
        },
        "outputId": "abf8c6bf-b1d0-4f66-8ecc-49cc979ff06b"
      },
      "execution_count": null,
      "outputs": [
        {
          "output_type": "stream",
          "name": "stdout",
          "text": [
            "kku nkc 1234\n"
          ]
        }
      ]
    },
    {
      "cell_type": "markdown",
      "source": [
        "จงเขียนโปรแกรมที่ทำให้ \"ABCDEF\" แสดงผลเป็น\n",
        "\n",
        "A\n",
        "\n",
        "B C\n",
        "\n",
        "D E F\n",
        "\n",
        "โดยโปรแกรมที่เขียนต้องมี 1 บันทัด"
      ],
      "metadata": {
        "id": "QoeDSAOsDJh5"
      }
    },
    {
      "cell_type": "code",
      "source": [
        "# ข้อที่ 3\n",
        "print(\"A\\nBC\\nDEF\")"
      ],
      "metadata": {
        "colab": {
          "base_uri": "https://localhost:8080/"
        },
        "id": "piW_yEeuEGEv",
        "outputId": "55af391f-0aef-48c2-da4f-76048e1da8ef"
      },
      "execution_count": null,
      "outputs": [
        {
          "output_type": "stream",
          "name": "stdout",
          "text": [
            "A\n",
            "BC\n",
            "DEF\n"
          ]
        }
      ]
    }
  ]
}